{
 "cells": [
  {
   "cell_type": "code",
   "execution_count": 2,
   "metadata": {
    "collapsed": false
   },
   "outputs": [
    {
     "name": "stderr",
     "output_type": "stream",
     "text": [
      "/Applications/anaconda3/lib/python3.4/site-packages/matplotlib/__init__.py:872: UserWarning: axes.color_cycle is deprecated and replaced with axes.prop_cycle; please use the latter.\n",
      "  warnings.warn(self.msg_depr % (key, alt_key))\n"
     ]
    }
   ],
   "source": [
    "import pandas as pd\n",
    "import pickle\n",
    "import numpy as np\n",
    "import matplotlib.pyplot as plt\n",
    "\n",
    "import seaborn as sns\n",
    "\n",
    "# Magic function to make matplotlib inline; other style specs must come AFTER\n",
    "%matplotlib inline\n",
    "\n",
    "# This enables SVG graphics inline.  There is a bug, so uncomment if it works.\n",
    "# %config InlineBackend.figure_formats = {'svg',}\n",
    "\n",
    "# This enables high resolution PNGs. SVG is preferred, but has problems\n",
    "# rendering vertical and horizontal lines\n",
    "%config InlineBackend.figure_formats = {'png', 'retina'}\n",
    "\n",
    "rc = {'lines.linewidth': 1, \n",
    "      'axes.labelsize': 18, \n",
    "      'axes.titlesize': 18, \n",
    "      'axes.facecolor': 'DFDFE5', \n",
    "      'lines.markerstyle': None}\n",
    "sns.set_context('notebook', rc=rc)\n",
    "sns.set_style('darkgrid', rc=rc)"
   ]
  },
  {
   "cell_type": "markdown",
   "metadata": {},
   "source": [
    "Ideas\n",
    "1. PCA?\n",
    "2. Are they the same distributions? How to measure similarity of distributions? Bootstrap! Kullback–Leibler\n",
    "3. Naive Bayes\n",
    "4. Random Forest/Extremely Random Trees\n",
    "5. GP\n",
    "6. tf-idf -- does not make a difference for tree-based methods\n",
    "7. Split out consistent local cv set. \n",
    "8. Ensemble selection\n",
    "9. linear models\n",
    "10. Look into other ways to transform data"
   ]
  },
  {
   "cell_type": "code",
   "execution_count": 226,
   "metadata": {
    "collapsed": false
   },
   "outputs": [
    {
     "data": {
      "text/html": [
       "<div>\n",
       "<table border=\"1\" class=\"dataframe\">\n",
       "  <thead>\n",
       "    <tr style=\"text-align: right;\">\n",
       "      <th></th>\n",
       "      <th>thi</th>\n",
       "      <th>mr.</th>\n",
       "      <th>ar</th>\n",
       "      <th>bill</th>\n",
       "      <th>thei</th>\n",
       "      <th>speaker</th>\n",
       "      <th>would</th>\n",
       "      <th>'s</th>\n",
       "      <th>gentleman</th>\n",
       "      <th>chairman</th>\n",
       "      <th>...</th>\n",
       "      <th>award</th>\n",
       "      <th>weapon</th>\n",
       "      <th>white</th>\n",
       "      <th>enhanc</th>\n",
       "      <th>infrastructur</th>\n",
       "      <th>overal</th>\n",
       "      <th>termin</th>\n",
       "      <th>guarante</th>\n",
       "      <th>board</th>\n",
       "      <th>Label</th>\n",
       "    </tr>\n",
       "  </thead>\n",
       "  <tbody>\n",
       "    <tr>\n",
       "      <th>0</th>\n",
       "      <td>4</td>\n",
       "      <td>5</td>\n",
       "      <td>1</td>\n",
       "      <td>0</td>\n",
       "      <td>0</td>\n",
       "      <td>4</td>\n",
       "      <td>0</td>\n",
       "      <td>0</td>\n",
       "      <td>2</td>\n",
       "      <td>0</td>\n",
       "      <td>...</td>\n",
       "      <td>0</td>\n",
       "      <td>0</td>\n",
       "      <td>0</td>\n",
       "      <td>0</td>\n",
       "      <td>0</td>\n",
       "      <td>0</td>\n",
       "      <td>0</td>\n",
       "      <td>0</td>\n",
       "      <td>0</td>\n",
       "      <td>1</td>\n",
       "    </tr>\n",
       "    <tr>\n",
       "      <th>1</th>\n",
       "      <td>0</td>\n",
       "      <td>2</td>\n",
       "      <td>0</td>\n",
       "      <td>0</td>\n",
       "      <td>0</td>\n",
       "      <td>1</td>\n",
       "      <td>0</td>\n",
       "      <td>0</td>\n",
       "      <td>1</td>\n",
       "      <td>0</td>\n",
       "      <td>...</td>\n",
       "      <td>0</td>\n",
       "      <td>0</td>\n",
       "      <td>0</td>\n",
       "      <td>0</td>\n",
       "      <td>0</td>\n",
       "      <td>0</td>\n",
       "      <td>0</td>\n",
       "      <td>0</td>\n",
       "      <td>0</td>\n",
       "      <td>0</td>\n",
       "    </tr>\n",
       "    <tr>\n",
       "      <th>2</th>\n",
       "      <td>0</td>\n",
       "      <td>1</td>\n",
       "      <td>0</td>\n",
       "      <td>0</td>\n",
       "      <td>0</td>\n",
       "      <td>0</td>\n",
       "      <td>0</td>\n",
       "      <td>0</td>\n",
       "      <td>0</td>\n",
       "      <td>1</td>\n",
       "      <td>...</td>\n",
       "      <td>0</td>\n",
       "      <td>0</td>\n",
       "      <td>0</td>\n",
       "      <td>0</td>\n",
       "      <td>0</td>\n",
       "      <td>0</td>\n",
       "      <td>0</td>\n",
       "      <td>0</td>\n",
       "      <td>0</td>\n",
       "      <td>0</td>\n",
       "    </tr>\n",
       "    <tr>\n",
       "      <th>3</th>\n",
       "      <td>3</td>\n",
       "      <td>0</td>\n",
       "      <td>0</td>\n",
       "      <td>0</td>\n",
       "      <td>8</td>\n",
       "      <td>0</td>\n",
       "      <td>2</td>\n",
       "      <td>0</td>\n",
       "      <td>1</td>\n",
       "      <td>0</td>\n",
       "      <td>...</td>\n",
       "      <td>0</td>\n",
       "      <td>0</td>\n",
       "      <td>0</td>\n",
       "      <td>0</td>\n",
       "      <td>0</td>\n",
       "      <td>0</td>\n",
       "      <td>0</td>\n",
       "      <td>0</td>\n",
       "      <td>0</td>\n",
       "      <td>0</td>\n",
       "    </tr>\n",
       "    <tr>\n",
       "      <th>4</th>\n",
       "      <td>0</td>\n",
       "      <td>1</td>\n",
       "      <td>0</td>\n",
       "      <td>1</td>\n",
       "      <td>0</td>\n",
       "      <td>1</td>\n",
       "      <td>0</td>\n",
       "      <td>0</td>\n",
       "      <td>0</td>\n",
       "      <td>0</td>\n",
       "      <td>...</td>\n",
       "      <td>0</td>\n",
       "      <td>0</td>\n",
       "      <td>0</td>\n",
       "      <td>0</td>\n",
       "      <td>0</td>\n",
       "      <td>0</td>\n",
       "      <td>0</td>\n",
       "      <td>0</td>\n",
       "      <td>0</td>\n",
       "      <td>1</td>\n",
       "    </tr>\n",
       "  </tbody>\n",
       "</table>\n",
       "<p>5 rows × 1001 columns</p>\n",
       "</div>"
      ],
      "text/plain": [
       "   thi  mr.  ar  bill  thei  speaker  would  's  gentleman  chairman  ...    \\\n",
       "0    4    5   1     0     0        4      0   0          2         0  ...     \n",
       "1    0    2   0     0     0        1      0   0          1         0  ...     \n",
       "2    0    1   0     0     0        0      0   0          0         1  ...     \n",
       "3    3    0   0     0     8        0      2   0          1         0  ...     \n",
       "4    0    1   0     1     0        1      0   0          0         0  ...     \n",
       "\n",
       "   award  weapon  white  enhanc  infrastructur  overal  termin  guarante  \\\n",
       "0      0       0      0       0              0       0       0         0   \n",
       "1      0       0      0       0              0       0       0         0   \n",
       "2      0       0      0       0              0       0       0         0   \n",
       "3      0       0      0       0              0       0       0         0   \n",
       "4      0       0      0       0              0       0       0         0   \n",
       "\n",
       "   board  Label  \n",
       "0      0      1  \n",
       "1      0      0  \n",
       "2      0      0  \n",
       "3      0      0  \n",
       "4      0      1  \n",
       "\n",
       "[5 rows x 1001 columns]"
      ]
     },
     "execution_count": 226,
     "metadata": {},
     "output_type": "execute_result"
    }
   ],
   "source": [
    "train_df = pd.read_csv('training_data.txt', sep='|')\n",
    "test_df = pd.read_csv('testing_data.txt', sep='|')\n",
    "train_df.head()"
   ]
  },
  {
   "cell_type": "code",
   "execution_count": 238,
   "metadata": {
    "collapsed": false
   },
   "outputs": [
    {
     "data": {
      "text/plain": [
       "support       698\n",
       "american      700\n",
       "peopl         717\n",
       "wa            792\n",
       "yield         857\n",
       "time          934\n",
       "gentleman     940\n",
       "tax           965\n",
       "act           972\n",
       "'s            976\n",
       "would        1031\n",
       "ha           1119\n",
       "us           1230\n",
       "research     1353\n",
       "bill         1414\n",
       "speaker      1448\n",
       "thei         1529\n",
       "ar           2442\n",
       "mr.          2448\n",
       "thi          3444\n",
       "dtype: int64"
      ]
     },
     "execution_count": 238,
     "metadata": {},
     "output_type": "execute_result"
    }
   ],
   "source": [
    "sums = test_df.sum(axis=0)\n",
    "sums.sort()\n",
    "sums.tail(20)"
   ]
  },
  {
   "cell_type": "code",
   "execution_count": 194,
   "metadata": {
    "collapsed": false
   },
   "outputs": [
    {
     "data": {
      "text/plain": [
       "<Container object of 1000 artists>"
      ]
     },
     "execution_count": 194,
     "metadata": {},
     "output_type": "execute_result"
    },
    {
     "data": {
      "image/png": "[encoded data removed]",
      "text/plain": [
       "<matplotlib.figure.Figure at 0x10c15cd30>"
      ]
     },
     "metadata": {
      "image/png": {
       "height": 342,
       "width": 506
      }
     },
     "output_type": "display_data"
    }
   ],
   "source": [
    "xcols = train_df.columns[0:-1]\n",
    "sums = train_df[xcols].sum(axis=0)\n",
    "plt.bar(range(len(sums)), sums)"
   ]
  },
  {
   "cell_type": "code",
   "execution_count": 195,
   "metadata": {
    "collapsed": false
   },
   "outputs": [
    {
     "data": {
      "text/plain": [
       "<Container object of 1000 artists>"
      ]
     },
     "execution_count": 195,
     "metadata": {},
     "output_type": "execute_result"
    },
    {
     "data": {
      "image/png": "[encoded data removed]",
      "text/plain": [
       "<matplotlib.figure.Figure at 0x10c1cb710>"
      ]
     },
     "metadata": {
      "image/png": {
       "height": 342,
       "width": 503
      }
     },
     "output_type": "display_data"
    }
   ],
   "source": [
    "pos_sums = train_df[train_df['Label']==1][xcols].sum(axis=0)\n",
    "neg_sums = train_df[train_df['Label']==0][xcols].sum(axis=0)\n",
    "fig, ax = plt.subplots(1,2)\n",
    "ax[0].bar(range(len(pos_sums)), pos_sums/sum(pos_sums))\n",
    "ax[1].bar(range(len(neg_sums)), neg_sums/sum(neg_sums))"
   ]
  },
  {
   "cell_type": "code",
   "execution_count": 107,
   "metadata": {
    "collapsed": false
   },
   "outputs": [],
   "source": [
    "def tf_idf(counts):\n",
    "    ell = len(counts)\n",
    "    non_zero = len(np.nonzero(counts))\n",
    "    return [c * np.log(ell/non_zero) for c in counts]"
   ]
  },
  {
   "cell_type": "code",
   "execution_count": 196,
   "metadata": {
    "collapsed": false
   },
   "outputs": [
    {
     "data": {
      "text/html": [
       "<div>\n",
       "<table border=\"1\" class=\"dataframe\">\n",
       "  <thead>\n",
       "    <tr style=\"text-align: right;\">\n",
       "      <th></th>\n",
       "      <th>thi</th>\n",
       "      <th>mr.</th>\n",
       "      <th>ar</th>\n",
       "      <th>bill</th>\n",
       "      <th>thei</th>\n",
       "      <th>speaker</th>\n",
       "      <th>would</th>\n",
       "      <th>'s</th>\n",
       "      <th>gentleman</th>\n",
       "      <th>chairman</th>\n",
       "      <th>...</th>\n",
       "      <th>anyon</th>\n",
       "      <th>award</th>\n",
       "      <th>weapon</th>\n",
       "      <th>white</th>\n",
       "      <th>enhanc</th>\n",
       "      <th>infrastructur</th>\n",
       "      <th>overal</th>\n",
       "      <th>termin</th>\n",
       "      <th>guarante</th>\n",
       "      <th>board</th>\n",
       "    </tr>\n",
       "  </thead>\n",
       "  <tbody>\n",
       "    <tr>\n",
       "      <th>0</th>\n",
       "      <td>33.360869</td>\n",
       "      <td>41.701087</td>\n",
       "      <td>8.340217</td>\n",
       "      <td>0.000000</td>\n",
       "      <td>0.000000</td>\n",
       "      <td>33.360869</td>\n",
       "      <td>0.000000</td>\n",
       "      <td>0</td>\n",
       "      <td>16.680435</td>\n",
       "      <td>0.000000</td>\n",
       "      <td>...</td>\n",
       "      <td>0</td>\n",
       "      <td>0</td>\n",
       "      <td>0</td>\n",
       "      <td>0</td>\n",
       "      <td>0</td>\n",
       "      <td>0</td>\n",
       "      <td>0</td>\n",
       "      <td>0</td>\n",
       "      <td>0</td>\n",
       "      <td>0</td>\n",
       "    </tr>\n",
       "    <tr>\n",
       "      <th>1</th>\n",
       "      <td>0.000000</td>\n",
       "      <td>16.680435</td>\n",
       "      <td>0.000000</td>\n",
       "      <td>0.000000</td>\n",
       "      <td>0.000000</td>\n",
       "      <td>8.340217</td>\n",
       "      <td>0.000000</td>\n",
       "      <td>0</td>\n",
       "      <td>8.340217</td>\n",
       "      <td>0.000000</td>\n",
       "      <td>...</td>\n",
       "      <td>0</td>\n",
       "      <td>0</td>\n",
       "      <td>0</td>\n",
       "      <td>0</td>\n",
       "      <td>0</td>\n",
       "      <td>0</td>\n",
       "      <td>0</td>\n",
       "      <td>0</td>\n",
       "      <td>0</td>\n",
       "      <td>0</td>\n",
       "    </tr>\n",
       "    <tr>\n",
       "      <th>2</th>\n",
       "      <td>0.000000</td>\n",
       "      <td>8.340217</td>\n",
       "      <td>0.000000</td>\n",
       "      <td>0.000000</td>\n",
       "      <td>0.000000</td>\n",
       "      <td>0.000000</td>\n",
       "      <td>0.000000</td>\n",
       "      <td>0</td>\n",
       "      <td>0.000000</td>\n",
       "      <td>8.340217</td>\n",
       "      <td>...</td>\n",
       "      <td>0</td>\n",
       "      <td>0</td>\n",
       "      <td>0</td>\n",
       "      <td>0</td>\n",
       "      <td>0</td>\n",
       "      <td>0</td>\n",
       "      <td>0</td>\n",
       "      <td>0</td>\n",
       "      <td>0</td>\n",
       "      <td>0</td>\n",
       "    </tr>\n",
       "    <tr>\n",
       "      <th>3</th>\n",
       "      <td>25.020652</td>\n",
       "      <td>0.000000</td>\n",
       "      <td>0.000000</td>\n",
       "      <td>0.000000</td>\n",
       "      <td>66.721739</td>\n",
       "      <td>0.000000</td>\n",
       "      <td>16.680435</td>\n",
       "      <td>0</td>\n",
       "      <td>8.340217</td>\n",
       "      <td>0.000000</td>\n",
       "      <td>...</td>\n",
       "      <td>0</td>\n",
       "      <td>0</td>\n",
       "      <td>0</td>\n",
       "      <td>0</td>\n",
       "      <td>0</td>\n",
       "      <td>0</td>\n",
       "      <td>0</td>\n",
       "      <td>0</td>\n",
       "      <td>0</td>\n",
       "      <td>0</td>\n",
       "    </tr>\n",
       "    <tr>\n",
       "      <th>4</th>\n",
       "      <td>0.000000</td>\n",
       "      <td>8.340217</td>\n",
       "      <td>0.000000</td>\n",
       "      <td>8.340217</td>\n",
       "      <td>0.000000</td>\n",
       "      <td>8.340217</td>\n",
       "      <td>0.000000</td>\n",
       "      <td>0</td>\n",
       "      <td>0.000000</td>\n",
       "      <td>0.000000</td>\n",
       "      <td>...</td>\n",
       "      <td>0</td>\n",
       "      <td>0</td>\n",
       "      <td>0</td>\n",
       "      <td>0</td>\n",
       "      <td>0</td>\n",
       "      <td>0</td>\n",
       "      <td>0</td>\n",
       "      <td>0</td>\n",
       "      <td>0</td>\n",
       "      <td>0</td>\n",
       "    </tr>\n",
       "  </tbody>\n",
       "</table>\n",
       "<p>5 rows × 1000 columns</p>\n",
       "</div>"
      ],
      "text/plain": [
       "         thi        mr.        ar      bill       thei    speaker      would  \\\n",
       "0  33.360869  41.701087  8.340217  0.000000   0.000000  33.360869   0.000000   \n",
       "1   0.000000  16.680435  0.000000  0.000000   0.000000   8.340217   0.000000   \n",
       "2   0.000000   8.340217  0.000000  0.000000   0.000000   0.000000   0.000000   \n",
       "3  25.020652   0.000000  0.000000  0.000000  66.721739   0.000000  16.680435   \n",
       "4   0.000000   8.340217  0.000000  8.340217   0.000000   8.340217   0.000000   \n",
       "\n",
       "   's  gentleman  chairman  ...    anyon  award  weapon  white  enhanc  \\\n",
       "0   0  16.680435  0.000000  ...        0      0       0      0       0   \n",
       "1   0   8.340217  0.000000  ...        0      0       0      0       0   \n",
       "2   0   0.000000  8.340217  ...        0      0       0      0       0   \n",
       "3   0   8.340217  0.000000  ...        0      0       0      0       0   \n",
       "4   0   0.000000  0.000000  ...        0      0       0      0       0   \n",
       "\n",
       "   infrastructur  overal  termin  guarante  board  \n",
       "0              0       0       0         0      0  \n",
       "1              0       0       0         0      0  \n",
       "2              0       0       0         0      0  \n",
       "3              0       0       0         0      0  \n",
       "4              0       0       0         0      0  \n",
       "\n",
       "[5 rows x 1000 columns]"
      ]
     },
     "execution_count": 196,
     "metadata": {},
     "output_type": "execute_result"
    }
   ],
   "source": [
    "X = train_df[xcols]\n",
    "Y = train_df['Label']\n",
    "X_test = test_df[xcols]\n",
    "X_tf_idf = pd.DataFrame(index=X.index, columns=X.columns)\n",
    "X_tf_idf_test = pd.DataFrame(index=X_test.index, columns=X_test.columns)\n",
    "\n",
    "for c in X.columns:\n",
    "    X_tf_idf[c] = tf_idf(X[c])\n",
    "    X_tf_idf_test[c] = tf_idf(X_test[c])\n",
    "X_tf_idf.head()    "
   ]
  },
  {
   "cell_type": "code",
   "execution_count": 255,
   "metadata": {
    "collapsed": false
   },
   "outputs": [
    {
     "data": {
      "text/plain": [
       "[0.67780429594272074, 0.6587112171837709]"
      ]
     },
     "execution_count": 255,
     "metadata": {},
     "output_type": "execute_result"
    }
   ],
   "source": [
    "from sklearn.ensemble import (RandomForestClassifier, AdaBoostClassifier, \n",
    "                              ExtraTreesClassifier)\n",
    "from sklearn.svm import SVC\n",
    "from sklearn import cross_validation\n",
    "def compare(X1, X2, Y, classifier, args={}):\n",
    "    scores = []\n",
    "    for X in (X1, X2):\n",
    "        X_train, X_cv, Y_train, Y_cv = \\\n",
    "        cross_validation.train_test_split(X, Y, test_size=0.1, \n",
    "                                          random_state=1)\n",
    "        clf = classifier(**args)\n",
    "        clf.fit(X_train, Y_train)\n",
    "        scores += [clf.score(X_cv, Y_cv)]\n",
    "    return scores\n",
    "    \n",
    "args = {'n_estimators':300,\n",
    "        'min_samples_split':2,\n",
    "        'min_samples_leaf':1,\n",
    "       'bootstrap':True}\n",
    "\n",
    "compare(X, X_tf_idf, Y, SVC, args={'kernel':'linear'})"
   ]
  },
  {
   "cell_type": "code",
   "execution_count": 251,
   "metadata": {
    "collapsed": false
   },
   "outputs": [],
   "source": [
    "clf = ExtraTreesClassifier(**args)\n",
    "clf.fit(X_tf_idf, Y)\n",
    "predictions = clf.predict(X_tf_idf_test)"
   ]
  },
  {
   "cell_type": "code",
   "execution_count": 252,
   "metadata": {
    "collapsed": false
   },
   "outputs": [],
   "source": [
    "predictions = [1 if p==1 else 0 for p in predictions]\n",
    "with open ('2016-01-23_et.txt', 'w') as f:\n",
    "    f.write('Id,Prediction\\n')\n",
    "    for i, p in enumerate(predictions):\n",
    "        f.write(str(i+1) + ',' + str(p) + '\\n')"
   ]
  },
  {
   "cell_type": "code",
   "execution_count": null,
   "metadata": {
    "collapsed": true
   },
   "outputs": [],
   "source": []
  }
 ],
 "metadata": {
  "kernelspec": {
   "display_name": "Python 3",
   "language": "python",
   "name": "python3"
  },
  "language_info": {
   "codemirror_mode": {
    "name": "ipython",
    "version": 3
   },
   "file_extension": ".py",
   "mimetype": "text/x-python",
   "name": "python",
   "nbconvert_exporter": "python",
   "pygments_lexer": "ipython3",
   "version": "3.4.3"
  }
 },
 "nbformat": 4,
 "nbformat_minor": 0
}
